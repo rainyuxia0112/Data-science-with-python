{
 "cells": [
  {
   "cell_type": "markdown",
   "metadata": {},
   "source": [
    "# DS 3000 HW 7\n",
    "Note: This HW has 90 points total.\n",
    "\n",
    "Due: Mon April 5 @ 11:59 PM EST\n",
    "\n",
    "### Submission Instructions\n",
    "Submit this `ipynb` file to gradescope.\n",
    "\n",
    "The `ipynb` format stores outputs from the last time you ran the notebook.  (When you open a notebook it has the figures and outputs of the last time you ran it too).  To ensure that your submitted `ipynb` file represents your latest code, make sure to give a fresh run \"Kernel > Restart & Run All\" just before uploading the `ipynb` file to gradescope.\n",
    "\n",
    "### Academic Integrity\n",
    "\n",
    "**Writing your homework is an individual effort.**  You may discuss general python problems with other students but under no circumstances should you observe another student's code which was written for this assignment, from this year or past years.  Pop into office hours or post a piazza note if you have a specific question about your work you'd like another pair of eyes to talk through.  (Remember, mark your piazza note private if it contains anything which may be considered a solution to the exercise).\n",
    "\n",
    "Don't forget to cite websites which helped you solve a problem in a unique way.  You can do this in markdown near the code or with a simple one-line comment.  For example, a python trick I find particularly clever (and useful, sometimes):\n",
    "\n",
    "```python\n",
    "from collections import defaultdict\n",
    "\n",
    "def tree(): \n",
    "    # https://gist.github.com/hrldcpr/2012250\n",
    "    return defaultdict(tree)\n",
    "```\n",
    "\n",
    "You need not cite the official python documentation or the documentation of any python library which is imported in the template (e.g. matplotlib, numpy, scipy).\n",
    "\n",
    "**Documentation / style counts for credit**  Please see our course's python style guide, available on canvas, for further information.\n"
   ]
  },
  {
   "cell_type": "markdown",
   "metadata": {},
   "source": [
    "# What contributes to property prices in the Boston area?\n",
    "\n",
    "We're going to analyze a dataset that contains nearly 1000 different condos and houses currently available for sale in the Boston area. Based on the features of a place and it's location we will try to predict its price."
   ]
  },
  {
   "cell_type": "code",
   "execution_count": 2,
   "metadata": {},
   "outputs": [
    {
     "data": {
      "text/html": [
       "<div>\n",
       "<style scoped>\n",
       "    .dataframe tbody tr th:only-of-type {\n",
       "        vertical-align: middle;\n",
       "    }\n",
       "\n",
       "    .dataframe tbody tr th {\n",
       "        vertical-align: top;\n",
       "    }\n",
       "\n",
       "    .dataframe thead th {\n",
       "        text-align: right;\n",
       "    }\n",
       "</style>\n",
       "<table border=\"1\" class=\"dataframe\">\n",
       "  <thead>\n",
       "    <tr style=\"text-align: right;\">\n",
       "      <th></th>\n",
       "      <th>beds</th>\n",
       "      <th>baths</th>\n",
       "      <th>area</th>\n",
       "      <th>distance</th>\n",
       "      <th>price</th>\n",
       "      <th>price_bucket</th>\n",
       "    </tr>\n",
       "  </thead>\n",
       "  <tbody>\n",
       "    <tr>\n",
       "      <th>0</th>\n",
       "      <td>3.0</td>\n",
       "      <td>2.0</td>\n",
       "      <td>2584.0</td>\n",
       "      <td>18.726140</td>\n",
       "      <td>1100000.0</td>\n",
       "      <td>price &gt;= 900k</td>\n",
       "    </tr>\n",
       "    <tr>\n",
       "      <th>1</th>\n",
       "      <td>1.0</td>\n",
       "      <td>1.0</td>\n",
       "      <td>650.0</td>\n",
       "      <td>1.053808</td>\n",
       "      <td>699000.0</td>\n",
       "      <td>600k &lt;= price &lt; 900k</td>\n",
       "    </tr>\n",
       "    <tr>\n",
       "      <th>2</th>\n",
       "      <td>2.0</td>\n",
       "      <td>3.0</td>\n",
       "      <td>1794.0</td>\n",
       "      <td>0.471038</td>\n",
       "      <td>1750000.0</td>\n",
       "      <td>price &gt;= 900k</td>\n",
       "    </tr>\n",
       "    <tr>\n",
       "      <th>3</th>\n",
       "      <td>4.0</td>\n",
       "      <td>3.0</td>\n",
       "      <td>1831.0</td>\n",
       "      <td>3.611435</td>\n",
       "      <td>979000.0</td>\n",
       "      <td>price &gt;= 900k</td>\n",
       "    </tr>\n",
       "    <tr>\n",
       "      <th>4</th>\n",
       "      <td>3.0</td>\n",
       "      <td>3.0</td>\n",
       "      <td>1875.0</td>\n",
       "      <td>2.200608</td>\n",
       "      <td>1875000.0</td>\n",
       "      <td>price &gt;= 900k</td>\n",
       "    </tr>\n",
       "  </tbody>\n",
       "</table>\n",
       "</div>"
      ],
      "text/plain": [
       "   beds  baths    area   distance      price          price_bucket\n",
       "0   3.0    2.0  2584.0  18.726140  1100000.0         price >= 900k\n",
       "1   1.0    1.0   650.0   1.053808   699000.0  600k <= price < 900k\n",
       "2   2.0    3.0  1794.0   0.471038  1750000.0         price >= 900k\n",
       "3   4.0    3.0  1831.0   3.611435   979000.0         price >= 900k\n",
       "4   3.0    3.0  1875.0   2.200608  1875000.0         price >= 900k"
      ]
     },
     "execution_count": 2,
     "metadata": {},
     "output_type": "execute_result"
    }
   ],
   "source": [
    "import pandas as pd\n",
    "\n",
    "df_pro = pd.read_csv('boston_houses.csv', index_col=None)\n",
    "\n",
    "df_pro.head()"
   ]
  },
  {
   "cell_type": "markdown",
   "metadata": {},
   "source": [
    "We will try to predict `price`.  To do so, we'll examine:\n",
    "- number of bedrooms: `beds`\n",
    "- number of bathrooms: `baths`\n",
    "- area in sq feet: `area`\n",
    "- distance in km from the Boston Common: `distance`\n",
    "\n",
    "We will use the following ML models:\n",
    "- Decision Trees\n",
    "- Random Forests\n",
    "- Regression\n",
    "\n",
    "And interpret their parameters (Feature Importances in Random Forests & Coefficients in Regression) to try to understand which features are helpful in predicting price.  "
   ]
  },
  {
   "cell_type": "markdown",
   "metadata": {},
   "source": [
    "## Redlining\n",
    "[Redlining](https://en.wikipedia.org/wiki/Redlining) has been a significant driver of economic racism driving [a dramatic wealth disparity between Black and white families](https://apps.bostonglobe.com/spotlight/boston-racism-image-reality/series/image/).  \n",
    "\n",
    "Regression is a powerful tool which can be used to measure the severity of the problem of racist housing practices by including race as an input feature in predicting housing costs.  By measuring a problem we can understand and combat it.  However, it can also be used to perpetuate the problem by naively propogating the biases of the input dataset into decision making.  (Its alarming that the same mathematics can be so helpful and harmful to people depending on how it is used!).\n",
    "\n",
    "Though we tried to find a suitable example, this homework avoids the issue entirely by excluding race from the analysis.  We couldn't find a way of measuring feature importance in a regression analysis which doesn't conflate correlated features.  (Larger homes have more bedrooms, each is assigned a coefficient in the model and its mathematically challenging to distinguish among the impact of each.  There is another issue as well, please see the final HW question / extra credit).\n",
    "\n",
    "As we discussed on day 1 of the class, there is a lot of information \"lost-in-translation\" between the application experts and technical experts as you collaborate on any Data Science project.  On issues of ethics, such as ensuring a tool doesn't encourage racism, us technical experts should make every effort to educate ourselves on the potential impact of our work:\n",
    " - [This NPR video](https://youtu.be/O5FBJyqfoLM?t=22) offers a good summary of the history of redlining and its current consequences\n",
    " - [This article](https://www.nytimes.com/2021/03/20/opinion/home-value-race-taxes.html) takes on the house valuations and race more explicitly. \n",
    " - [\"The Color of Law\"](https://shop.harvard.com/book/9781631494536) by Richard Rothstein"
   ]
  },
  {
   "cell_type": "markdown",
   "metadata": {},
   "source": [
    "## Imports\n",
    "You're welcome to use others but our solution file completed this assignment using the following:"
   ]
  },
  {
   "cell_type": "code",
   "execution_count": 3,
   "metadata": {},
   "outputs": [],
   "source": [
    "import matplotlib.pyplot as plt\n",
    "import numpy as np\n",
    "import seaborn as sns\n",
    "\n",
    "from sklearn.tree import DecisionTreeClassifier, plot_tree\n",
    "from sklearn.ensemble import RandomForestClassifier\n",
    "from sklearn.model_selection import StratifiedKFold\n",
    "from sklearn.metrics import confusion_matrix, ConfusionMatrixDisplay, r2_score\n",
    "from sklearn.linear_model import LinearRegression"
   ]
  },
  {
   "cell_type": "markdown",
   "metadata": {},
   "source": [
    "## Part 1: Decision Tree (20 points)\n",
    "Decision Trees and Random Forests Classifiers, by virtue of being classifiers, estimate a categorical variable.  Our target variable is `price`, which we can approximate by binning, as has been done in `price_bucket`:"
   ]
  },
  {
   "cell_type": "code",
   "execution_count": 20,
   "metadata": {},
   "outputs": [
    {
     "data": {
      "text/plain": [
       "array(['price >= 900k', '600k <= price < 900k', 'price < 600k'],\n",
       "      dtype=object)"
      ]
     },
     "execution_count": 20,
     "metadata": {},
     "output_type": "execute_result"
    }
   ],
   "source": [
    "df_pro['price_bucket'].unique()"
   ]
  },
  {
   "cell_type": "markdown",
   "metadata": {},
   "source": [
    "1. Build a Decision Tree with `max_depth=2` which estimates the `price_bucket` of housing using \n",
    "    - beds\n",
    "    - baths\n",
    "    - area\n",
    "    - distance\n",
    "1. Plot the tree using `plot_tree()`.  To help the visualize be easily understood:\n",
    "    - initialize a figure before calling `plot_tree()` which is `(12, 5)` inches\n",
    "        - see class notes for example of this syntax\n",
    "    - utlize the `class_names` input to `plot_tree()` which shows the most common class among the `values` shown\n",
    "1. While not a rigorous assessment just yet (see parts below), which input features seems to be most helpful in predicting `price_bucket`?  Justify your response by citing specific structures in the tree you've plotted above.\n",
    "    - Remember, [left = yes](https://piazza.com/class/kjzwrutpcgn2hv?cid=416) in the tree\n",
    "    - Please write your response in a markdown cell just below the tree itself\n"
   ]
  },
  {
   "cell_type": "code",
   "execution_count": 5,
   "metadata": {},
   "outputs": [
    {
     "data": {
      "text/plain": [
       "DecisionTreeClassifier(ccp_alpha=0.0, class_weight=None, criterion='gini',\n",
       "                       max_depth=2, max_features=None, max_leaf_nodes=None,\n",
       "                       min_impurity_decrease=0.0, min_impurity_split=None,\n",
       "                       min_samples_leaf=1, min_samples_split=2,\n",
       "                       min_weight_fraction_leaf=0.0, presort='deprecated',\n",
       "                       random_state=0, splitter='best')"
      ]
     },
     "execution_count": 5,
     "metadata": {},
     "output_type": "execute_result"
    }
   ],
   "source": [
    "clf = DecisionTreeClassifier(random_state=0, max_depth = 2)\n",
    "X_train = df_pro[['beds', 'baths', 'area', 'distance']]\n",
    "Y_train = df_pro['price_bucket']\n",
    "clf.fit(X_train, Y_train)\n"
   ]
  },
  {
   "cell_type": "code",
   "execution_count": 12,
   "metadata": {},
   "outputs": [
    {
     "data": {
      "image/png": "[encoded data removed]",
      "text/plain": [
       "<Figure size 864x360 with 1 Axes>"
      ]
     },
     "metadata": {
      "needs_background": "light"
     },
     "output_type": "display_data"
    }
   ],
   "source": [
    "# plot tree\n",
    "import matplotlib.pyplot as plt\n",
    "fig = plt.figure(figsize=(12,5))\n",
    "fig = plot_tree(clf, class_names=Y_train, feature_names = X_train.columns)  "
   ]
  },
  {
   "cell_type": "markdown",
   "metadata": {},
   "source": [
    "### which input features seems to be most helpful in predicting price_bucket? \n",
    "#### answer: baths\n",
    "#### 这里自己回答把，我也不知道咋justify"
   ]
  },
  {
   "cell_type": "markdown",
   "metadata": {},
   "source": [
    "## Part 2: Random Forest Classification (20 points)\n",
    "Let us quantify how significant each feature (i.e. 'beds', 'baths', 'area', 'distance') is to create an expensive property via a Random Forest Analysis.  As was done in class, Part 3 will ask us to compute and display the feature importances (Mean Reduction in Gini) of each of the features.  \n",
    "\n",
    "Of course, **before examining feature importances, we must validate that our Random Forest Classification does classify most of the samples correct**.  (Nobody cares how important each feature is in a classifier which doesn't work).\n",
    "\n",
    "Using 10 fold cross validation,construct a confusion matrix which shows how well a Random Forest (max_depth=3) classifies this data.  Use the same x, y definitions as above."
   ]
  },
  {
   "cell_type": "code",
   "execution_count": 21,
   "metadata": {},
   "outputs": [
    {
     "data": {
      "text/plain": [
       "array([[176,  96,  41],\n",
       "       [ 63, 253,   5],\n",
       "       [ 72,  10, 238]])"
      ]
     },
     "execution_count": 21,
     "metadata": {},
     "output_type": "execute_result"
    }
   ],
   "source": [
    "from sklearn.model_selection import cross_val_predict, cross_val_score\n",
    "skf = StratifiedKFold(n_splits=10)\n",
    "model = RandomForestClassifier(max_depth=3)\n",
    "y_pred = cross_val_predict(model, X_train, Y_train, cv = skf)\n",
    "confusion_matrix(Y_train, y_pred)  # 我直接用了cross_val_predict， 没有写传统的cross_val"
   ]
  },
  {
   "cell_type": "markdown",
   "metadata": {},
   "source": [
    "## Part 3 Feature Importance in Random Forest (16 points)\n",
    "1. Fit a Random Forest Classifier on the *entire dataset.  \n",
    "1. Plot the Feature Importances, mean reduction in Gini scores, via `plot_feat_import()`.\n",
    "1. Write 1 or 2 sentences which are easily understood by a non-technical reader which synthesize the key takeaway message of the plot. Make sure you remind the reader what `price_bucket` means\n",
    "    - write your response in a markdown cell below the plot itself please\n",
    "\n",
    "*without k-fold Cross Validation ... remember that doing so yields k distinct classifiers which likely have slightly different feature importances.  By training on the entire dataset we implicitly \"average\" across the whole dataset."
   ]
  },
  {
   "cell_type": "code",
   "execution_count": 22,
   "metadata": {},
   "outputs": [],
   "source": [
    "def plot_feat_import(feat_list, feat_import, sort=True, limit=None):\n",
    "    \"\"\" plots feature importances in a horizontal bar chart\n",
    "    \n",
    "    Args:\n",
    "        feat_list (list): str names of features\n",
    "        feat_import (np.array): feature importances (mean gini reduce)\n",
    "        sort (bool): if True, sorts features in decreasing importance\n",
    "            from top to bottom of plot\n",
    "        limit (int): if passed, limits the number of features shown\n",
    "            to this value    \n",
    "    \"\"\"\n",
    "    \n",
    "    if sort:\n",
    "        # sort features in decreasing importance\n",
    "        idx = np.argsort(feat_import).astype(int)\n",
    "        feat_list = [feat_list[_idx] for _idx in idx]\n",
    "        feat_import = feat_import[idx] \n",
    "        \n",
    "    if limit is not None:\n",
    "        # limit to the first limit feature\n",
    "        feat_list = feat_list[:limit]\n",
    "        feat_import = feat_import[:limit]\n",
    "    \n",
    "    # plot and label feature importance\n",
    "    plt.barh(feat_list, feat_import)\n",
    "    plt.gcf().set_size_inches(5, len(feat_list) / 2)\n",
    "    plt.xlabel('Feature importance\\n(% decrease in Gini due to each feature)')"
   ]
  },
  {
   "cell_type": "code",
   "execution_count": 23,
   "metadata": {},
   "outputs": [
    {
     "data": {
      "image/png": "[encoded data removed]",
      "text/plain": [
       "<Figure size 360x144 with 1 Axes>"
      ]
     },
     "metadata": {
      "needs_background": "light"
     },
     "output_type": "display_data"
    }
   ],
   "source": [
    "model = RandomForestClassifier(max_depth=3)\n",
    "model.fit(X_train, Y_train)\n",
    "model.feature_importances_\n",
    "plot_feat_import(X_train.columns, model.feature_importances_)"
   ]
  },
  {
   "cell_type": "markdown",
   "metadata": {},
   "source": [
    "# Part 4: Regression (14 points)\n",
    "One uncomfortable fact about the analysis above is that it bins price into three coarse price groups.  This was done because our methods were classifiers which require some categorical output.  This is uncomfortable because there is a lot of information lost in binning the properties into unordered, coarse groups based on `price`.  (We would have avoided it altogether if we didn't need to practice the skills on HW  ... the work above is still valid its just not as informative as it could be).\n",
    "\n",
    "To properly predict $y=$`price` and measure the impact of:\n",
    "\n",
    "- $x_1 = $ beds\n",
    "- $x_2 = $ baths\n",
    "- $x_3 = $ area\n",
    "- $x_4 = $ distance\n",
    "\n",
    "1. Fit a regression model of the form:\n",
    "    $$ a_0 + a_1 x_1 + a_2 x_2 + a_3 x_3 + a_4 x_4 = \\hat{y}$$\n",
    "    which minimizes the Mean of Squared Errors.\n",
    "1. Compute the $R^2$ score associated with your regression model and explain, in a markdown cell, its significance to a non-technical reader."
   ]
  },
  {
   "cell_type": "code",
   "execution_count": 32,
   "metadata": {},
   "outputs": [
    {
     "name": "stdout",
     "output_type": "stream",
     "text": [
      "0.1272668581755736\n",
      "[      0.         -149261.71101846  153301.32748012     511.19321839\n",
      "  -41743.00249623]\n"
     ]
    },
    {
     "name": "stderr",
     "output_type": "stream",
     "text": [
      "/opt/anaconda3/envs/python37/lib/python3.7/site-packages/numpy/core/fromnumeric.py:2542: FutureWarning: Method .ptp is deprecated and will be removed in a future version. Use numpy.ptp instead.\n",
      "  return ptp(axis=axis, out=out, **kwargs)\n"
     ]
    }
   ],
   "source": [
    "import statsmodels.api as sm\n",
    "lr = LinearRegression()\n",
    "X_train_new = sm.add_constant(X_train)\n",
    "Y_train_new =  df_pro['price']\n",
    "lr.fit(X_train_new, Y_train_new)\n",
    "y_pro = lr.predict(X_train_new)\n",
    "print (r2_score(y_pro, Y_train_new))# 检查一下，感觉好小啊\n",
    "print (lr.coef_)"
   ]
  },
  {
   "cell_type": "markdown",
   "metadata": {},
   "source": [
    "## Part 5: Interpretting coefficients in a Regression Model (20 points)\n",
    "The coefficients of the regression model above are:\n",
    "```python\n",
    "from pprint import pprint\n",
    "\n",
    "feat_coef_dict = dict(zip(x_feat_list, reg.coef_))\n",
    "\n",
    "pprint(feat_coef_dict)\n",
    "```\n",
    "\n",
    "     {'area': 511.1932183931931,\n",
    "     'baths': 153301.32748013045,\n",
    "     'beds': -149261.71101844066,\n",
    "     'distance': -41743.00249623357}\n",
    "     \n",
    "1. Explain, to a non-technical reader, the meaning of each coefficient.  Use the notes on interpretting slope as a guide.  (I know doing this four times is a bit redundant, but it helps inform us on the question below)  \n",
    "1. Note that the coefficient of `beds` is negative. Is that what you would expect? What could be the explanation?\n",
    "    - **hint**: Re-train your model with only `baths`, `beds`, `distance`, without `area`. Is the coefficient of `beds` still negative? What does that mean and how does this affect our interpretation of the negative coefficient in the full model? (no need to include the code, just the answer)\n",
    "1. Naively, one might assume that the coefficients themselves are appropriate approximations of feature importance.  How might you correct somebody who claims, \"Because `baths` has the biggest coefficient it must be the most important feature to determine the price\".  Please be clear, specific and brief."
   ]
  },
  {
   "cell_type": "code",
   "execution_count": null,
   "metadata": {},
   "outputs": [],
   "source": [
    "# 解释自己来吧"
   ]
  },
  {
   "cell_type": "markdown",
   "metadata": {},
   "source": [
    "## Part 6 Feature Importance in a Regression Model (+5 points)\n",
    "\n",
    "How might you fix the error in Part 5.2 so that one could interpret the magnitude of regression coefficients as feature importance?  Implement your solution and synthesize the analysis so a non technical reader could easily understand.\n",
    "\n",
    "Note: This problem is entirely extra credit, you need not submit for full marks on this HW."
   ]
  },
  {
   "cell_type": "code",
   "execution_count": 37,
   "metadata": {},
   "outputs": [
    {
     "name": "stdout",
     "output_type": "stream",
     "text": [
      "Feature: 0, Score: 0.00000\n",
      "Feature: 1, Score: -149261.71102\n",
      "Feature: 2, Score: 153301.32748\n",
      "Feature: 3, Score: 511.19322\n",
      "Feature: 4, Score: -41743.00250\n"
     ]
    },
    {
     "data": {
      "image/png": "[encoded data removed]",
      "text/plain": [
       "<Figure size 432x288 with 1 Axes>"
      ]
     },
     "metadata": {
      "needs_background": "light"
     },
     "output_type": "display_data"
    }
   ],
   "source": [
    "# get importance\n",
    "import math\n",
    "importance = lr.coef_\n",
    "# summarize feature importance\n",
    "for i,v in enumerate(importance):\n",
    "\tprint('Feature: %0d, Score: %.5f' % (i,v))\n",
    "# plot feature importance\n",
    "plt.bar([x for x in range(len(importance))], abs(importance))\n",
    "plt.show()"
   ]
  },
  {
   "cell_type": "code",
   "execution_count": null,
   "metadata": {},
   "outputs": [],
   "source": []
  }
 ],
 "metadata": {
  "kernelspec": {
   "display_name": "Python 3",
   "language": "python",
   "name": "python3"
  },
  "language_info": {
   "codemirror_mode": {
    "name": "ipython",
    "version": 3
   },
   "file_extension": ".py",
   "mimetype": "text/x-python",
   "name": "python",
   "nbconvert_exporter": "python",
   "pygments_lexer": "ipython3",
   "version": "3.7.5"
  }
 },
 "nbformat": 4,
 "nbformat_minor": 4
}
