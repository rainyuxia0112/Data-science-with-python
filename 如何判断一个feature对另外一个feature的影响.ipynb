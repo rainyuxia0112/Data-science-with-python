{
 "cells": [
  {
   "cell_type": "code",
   "execution_count": null,
   "metadata": {},
   "outputs": [],
   "source": [
    "# 1 当n很大的时候，想要比较两个active rate的情况，不能用proportion test， here， 2*2 表格 odds ratio\n",
    "\n",
    "import numpy as np\n",
    "import scipy.stats as stats\n",
    "oddsratio, pvalue = stats.fisher_exact(data_7[0])\n",
    "oddsratio\n",
    "\n",
    "# oddsratio >1 : positive association, oddsratio <1 : negative association\n"
   ]
  },
  {
   "cell_type": "code",
   "execution_count": null,
   "metadata": {},
   "outputs": [],
   "source": [
    "# 如何去看和一个连续feature和另外一个（contact or not的关系）\n",
    "# build model，用一个相交变量\n",
    "# build logistic regression\n",
    "import statsmodels.api as sm \n",
    "cohort_table_week6 = cohort_table_week6.dropna(subset = ['subscription_tenure', 'contact_or_not'])\n",
    "ytrain = cohort_table_week6.e_monthly_active_2_plus\n",
    "Xtrain = cohort_table_week6[['contact_or_not', 'subscription_tenure']]\n",
    "Xtrain['cor'] = cohort_table_week6['contact_or_not']*cohort_table_week6.subscription_tenure\n",
    "Xtrain = sm.add_constant(Xtrain)\n",
    "log_reg = sm.Logit(ytrain, Xtrain).fit() \n",
    "log_reg.summary()  ----> 看系数"
   ]
  },
  {
   "cell_type": "code",
   "execution_count": null,
   "metadata": {},
   "outputs": [],
   "source": [
    "# 如果是一个category 变量 并且有很多类时，可以dummy，然后用l1，l2 惩罚\n",
    "cohort_table_week6 = cohort_table_week6.dropna(subset = ['product', 'contact_or_not'])\n",
    "Xtrain = pd.get_dummies(cohort_table_week6[['product']], columns=['product'])\n",
    "\n",
    "# 拿掉最后一列\n",
    "Xtrain = Xtrain.iloc[:, : -1]\n",
    "ytrain = cohort_table_week6.e_monthly_active_2_plus\n",
    "\n",
    "for index in range(len(Xtrain.columns.unique())):  \n",
    "    \n",
    "    Xtrain['cor_'+ Xtrain.columns[index]] = cohort_table_week6['contact_or_not']*Xtrain.iloc[:, index]\n",
    "\n",
    "Xtrain['contact_or_not'] = cohort_table_week6['contact_or_not']\n",
    "import statsmodels.api as sm\n",
    "Xtrain = sm.add_constant(Xtrain)\n",
    "log_reg = sm.Logit(ytrain, Xtrain)\n",
    "model = log_reg.fit_regularized(L1_wt=0)\n",
    "model.summary()"
   ]
  }
 ],
 "metadata": {
  "kernelspec": {
   "display_name": "Python 3",
   "language": "python",
   "name": "python3"
  },
  "language_info": {
   "codemirror_mode": {
    "name": "ipython",
    "version": 3
   },
   "file_extension": ".py",
   "mimetype": "text/x-python",
   "name": "python",
   "nbconvert_exporter": "python",
   "pygments_lexer": "ipython3",
   "version": "3.6.8"
  }
 },
 "nbformat": 4,
 "nbformat_minor": 4
}
